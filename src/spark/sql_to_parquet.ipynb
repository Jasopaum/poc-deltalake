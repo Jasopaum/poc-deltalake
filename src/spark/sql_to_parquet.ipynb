{
 "cells": [
  {
   "cell_type": "code",
   "execution_count": 1,
   "metadata": {},
   "outputs": [],
   "source": [
    "from pyspark.sql import SparkSession\n",
    "from pyspark.sql import functions as F"
   ]
  },
  {
   "cell_type": "code",
   "execution_count": 2,
   "metadata": {},
   "outputs": [],
   "source": []
  },
  {
   "cell_type": "code",
   "execution_count": 3,
   "metadata": {},
   "outputs": [
    {
     "name": "stdout",
     "output_type": "stream",
     "text": [
      "+------+----------+------+-------------------+\n",
      "|row_id|subject_id|gender|                dob|\n",
      "+------+----------+------+-------------------+\n",
      "|   234|       249|     F|2075-03-13 00:00:00|\n",
      "|   235|       250|     F|2164-12-27 00:00:00|\n",
      "|   236|       251|     M|2090-03-15 00:00:00|\n",
      "|   237|       252|     M|2078-03-06 00:00:00|\n",
      "|   238|       253|     F|2089-11-26 00:00:00|\n",
      "|   239|       255|     M|2109-08-05 00:00:00|\n",
      "|   240|       256|     M|2086-07-31 00:00:00|\n",
      "|   241|       257|     F|2031-04-03 00:00:00|\n",
      "|   242|       258|     F|2124-09-19 00:00:00|\n",
      "|   243|       260|     F|2105-03-23 00:00:00|\n",
      "|   244|       261|     M|2025-08-04 00:00:00|\n",
      "|   245|       262|     M|2090-01-05 00:00:00|\n",
      "|   246|       263|     M|2104-06-18 00:00:00|\n",
      "|   247|       264|     F|2162-11-30 00:00:00|\n",
      "|   248|       265|     M|2093-08-01 00:00:00|\n",
      "|   249|       266|     F|2090-12-17 00:00:00|\n",
      "|   250|       267|     F|2131-09-05 00:00:00|\n",
      "|   251|       268|     F|2132-02-21 00:00:00|\n",
      "|   252|       269|     M|2130-09-30 00:00:00|\n",
      "|   253|       270|     M|2048-05-26 00:00:00|\n",
      "+------+----------+------+-------------------+\n",
      "only showing top 20 rows\n",
      "\n"
     ]
    }
   ],
   "source": [
    "spark = (\n",
    "    SparkSession.builder\n",
    "    .master(\"spark://MacBook-Pro.local:7077\")\n",
    "    .appName(\"test_mimic\")\n",
    "    #.config(\"spark.sql.extensions\", \"io.delta.sql.DeltaSparkSessionExtension\")\n",
    "    #.config(\"spark.sql.catalog.spark_catalog\", \"org.apache.spark.sql.delta.catalog.DeltaCatalog\")\n",
    "    .config(\"spark.jars\", \"../../jars/postgresql-42.2.19.jar\")\n",
    "    .config(\"spark.sql.legacy.parquet.int96RebaseModeInWrite\", \"CORRECTED\")\n",
    "    .getOrCreate()\n",
    ")\n",
    "\n",
    "# Read DB\n",
    "df = spark.read.jdbc(\n",
    "    DB_URI,\n",
    "    \"(SELECT row_id, subject_id, gender, dob FROM mimiciii.patients) as patients\",\n",
    "    properties={\"user\": USER, \"password\": PASSWORD, \"driver\": \"org.postgresql.Driver\"},\n",
    ")\n",
    "\n",
    "df.show()"
   ]
  },
  {
   "cell_type": "code",
   "execution_count": 4,
   "metadata": {},
   "outputs": [
    {
     "name": "stdout",
     "output_type": "stream",
     "text": [
      "+------+----------+------+-------------------+-----------+\n",
      "|row_id|subject_id|gender|                dob|fhir_gender|\n",
      "+------+----------+------+-------------------+-----------+\n",
      "|   234|       249|     F|2075-03-13 00:00:00|     female|\n",
      "|   235|       250|     F|2164-12-27 00:00:00|     female|\n",
      "|   236|       251|     M|2090-03-15 00:00:00|       male|\n",
      "|   237|       252|     M|2078-03-06 00:00:00|       male|\n",
      "|   238|       253|     F|2089-11-26 00:00:00|     female|\n",
      "|   239|       255|     M|2109-08-05 00:00:00|       male|\n",
      "|   240|       256|     M|2086-07-31 00:00:00|       male|\n",
      "|   241|       257|     F|2031-04-03 00:00:00|     female|\n",
      "|   242|       258|     F|2124-09-19 00:00:00|     female|\n",
      "|   243|       260|     F|2105-03-23 00:00:00|     female|\n",
      "|   244|       261|     M|2025-08-04 00:00:00|       male|\n",
      "|   245|       262|     M|2090-01-05 00:00:00|       male|\n",
      "|   246|       263|     M|2104-06-18 00:00:00|       male|\n",
      "|   247|       264|     F|2162-11-30 00:00:00|     female|\n",
      "|   248|       265|     M|2093-08-01 00:00:00|       male|\n",
      "|   249|       266|     F|2090-12-17 00:00:00|     female|\n",
      "|   250|       267|     F|2131-09-05 00:00:00|     female|\n",
      "|   251|       268|     F|2132-02-21 00:00:00|     female|\n",
      "|   252|       269|     M|2130-09-30 00:00:00|       male|\n",
      "|   253|       270|     M|2048-05-26 00:00:00|       male|\n",
      "+------+----------+------+-------------------+-----------+\n",
      "only showing top 20 rows\n",
      "\n"
     ]
    }
   ],
   "source": [
    "# Fetch all the other useful\n",
    "\n",
    "gender_df = df.withColumn(\n",
    "    \"fhir_gender\",\n",
    "    F.when(df[\"gender\"] == \"F\", \"female\").when(df[\"gender\"] == \"M\", \"male\").otherwise(\"unknown\")\n",
    ")\n",
    "gender_df.show()"
   ]
  },
  {
   "cell_type": "markdown",
   "metadata": {},
   "source": [
    "# WRITE"
   ]
  },
  {
   "cell_type": "code",
   "execution_count": 5,
   "metadata": {},
   "outputs": [],
   "source": [
    "gender_df.write.mode(\"overwrite\").parquet(\"/tmp/spark-lake/big_mimic/patients\")"
   ]
  },
  {
   "cell_type": "markdown",
   "metadata": {},
   "source": [
    "# READ"
   ]
  },
  {
   "cell_type": "code",
   "execution_count": 6,
   "metadata": {},
   "outputs": [
    {
     "name": "stdout",
     "output_type": "stream",
     "text": [
      "+------+----------+------+-------------------+-----------+\n",
      "|row_id|subject_id|gender|                dob|fhir_gender|\n",
      "+------+----------+------+-------------------+-----------+\n",
      "|   234|       249|     F|2075-03-13 00:00:00|     female|\n",
      "|   235|       250|     F|2164-12-27 00:00:00|     female|\n",
      "|   236|       251|     M|2090-03-15 00:00:00|       male|\n",
      "|   237|       252|     M|2078-03-06 00:00:00|       male|\n",
      "|   238|       253|     F|2089-11-26 00:00:00|     female|\n",
      "|   239|       255|     M|2109-08-05 00:00:00|       male|\n",
      "|   240|       256|     M|2086-07-31 00:00:00|       male|\n",
      "|   241|       257|     F|2031-04-03 00:00:00|     female|\n",
      "|   242|       258|     F|2124-09-19 00:00:00|     female|\n",
      "|   243|       260|     F|2105-03-23 00:00:00|     female|\n",
      "|   244|       261|     M|2025-08-04 00:00:00|       male|\n",
      "|   245|       262|     M|2090-01-05 00:00:00|       male|\n",
      "|   246|       263|     M|2104-06-18 00:00:00|       male|\n",
      "|   247|       264|     F|2162-11-30 00:00:00|     female|\n",
      "|   248|       265|     M|2093-08-01 00:00:00|       male|\n",
      "|   249|       266|     F|2090-12-17 00:00:00|     female|\n",
      "|   250|       267|     F|2131-09-05 00:00:00|     female|\n",
      "|   251|       268|     F|2132-02-21 00:00:00|     female|\n",
      "|   252|       269|     M|2130-09-30 00:00:00|       male|\n",
      "|   253|       270|     M|2048-05-26 00:00:00|       male|\n",
      "+------+----------+------+-------------------+-----------+\n",
      "only showing top 20 rows\n",
      "\n"
     ]
    }
   ],
   "source": [
    "pat_read = spark.read.parquet(\"/tmp/spark-lake/big_mimic/patients\")\n",
    "pat_read.show()"
   ]
  },
  {
   "cell_type": "code",
   "execution_count": null,
   "metadata": {},
   "outputs": [],
   "source": []
  }
 ],
 "metadata": {
  "kernelspec": {
   "display_name": "poc-deltalake",
   "language": "python",
   "name": "poc-deltalake"
  },
  "language_info": {
   "codemirror_mode": {
    "name": "ipython",
    "version": 3
   },
   "file_extension": ".py",
   "mimetype": "text/x-python",
   "name": "python",
   "nbconvert_exporter": "python",
   "pygments_lexer": "ipython3",
   "version": "3.9.1"
  }
 },
 "nbformat": 4,
 "nbformat_minor": 4
}
