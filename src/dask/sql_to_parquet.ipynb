{
 "cells": [
  {
   "cell_type": "code",
   "execution_count": 1,
   "metadata": {},
   "outputs": [],
   "source": [
    "import dask\n",
    "from dask import dataframe as dd\n",
    "import pyarrow as pa"
   ]
  },
  {
   "cell_type": "code",
   "execution_count": 131,
   "metadata": {},
   "outputs": [],
   "source": [
    "N_PARTITIONS = 10\n",
    "OUTPUT_LOCATION = \"/tmp/lake/big_mimic\"\n",
    "\n",
    "tables_to_fetch = {\n",
    "    #\"noteevents\": [\"row_id\", \"category\"],\n",
    "    \"patients\": [\"gender\"],\n",
    "    \"admissions\": [\"admission_type\"],\n",
    "} "
   ]
  },
  {
   "cell_type": "code",
   "execution_count": 132,
   "metadata": {},
   "outputs": [
    {
     "name": "stdout",
     "output_type": "stream",
     "text": [
      "CPU times: user 78.7 ms, sys: 6.98 ms, total: 85.7 ms\n",
      "Wall time: 1.6 s\n"
     ]
    }
   ],
   "source": [
    "%%time\n",
    "dfs = {\n",
    "    table: dd.read_sql_table(table, DB_URI, schema=\"mimiciii\", columns=columns, index_col=\"subject_id\", npartitions=N_PARTITIONS)\n",
    "    for table, columns in tables_to_fetch.items()\n",
    "}"
   ]
  },
  {
   "cell_type": "code",
   "execution_count": 133,
   "metadata": {},
   "outputs": [
    {
     "name": "stdout",
     "output_type": "stream",
     "text": [
      "CPU times: user 4.17 ms, sys: 123 µs, total: 4.3 ms\n",
      "Wall time: 4.22 ms\n"
     ]
    }
   ],
   "source": [
    "%%time\n",
    "pat_df = dfs[\"patients\"]\n",
    "fhir_genders = {\"F\": \"female\", \"M\": \"male\"}\n",
    "pat_df[\"clean_gender\"] = pat_df[\"gender\"].map(lambda x: fhir_genders.get(x, \"unknown\"))"
   ]
  },
  {
   "cell_type": "code",
   "execution_count": 134,
   "metadata": {},
   "outputs": [
    {
     "name": "stdout",
     "output_type": "stream",
     "text": [
      "CPU times: user 475 ms, sys: 107 ms, total: 583 ms\n",
      "Wall time: 3.31 s\n"
     ]
    }
   ],
   "source": [
    "%%time\n",
    "#df.to_parquet(\"./lake/big_mimic\", schema={\"icd9_code\": pa.string()})\n",
    "for table, df in dfs.items():\n",
    "    df.to_parquet(f\"{OUTPUT_LOCATION}/{table}\")"
   ]
  },
  {
   "cell_type": "markdown",
   "metadata": {},
   "source": [
    "# Read and join"
   ]
  },
  {
   "cell_type": "code",
   "execution_count": 120,
   "metadata": {},
   "outputs": [
    {
     "name": "stdout",
     "output_type": "stream",
     "text": [
      "nb patients: \t 9462\n",
      "nb admissions: \t 58976\n"
     ]
    }
   ],
   "source": [
    "patients_read = dd.read_parquet(f\"{OUTPUT_LOCATION}/patients\", filters=[(\"subject_id\", \"<\", 249)])\n",
    "admissions_read = dd.read_parquet(f\"{OUTPUT_LOCATION}/admissions\")\n",
    "print(\"nb patients: \\t\", len(patients_read))\n",
    "print(\"nb admissions: \\t\", len(admissions_read))"
   ]
  },
  {
   "cell_type": "code",
   "execution_count": 125,
   "metadata": {},
   "outputs": [
    {
     "name": "stdout",
     "output_type": "stream",
     "text": [
      "===== PATIENTS =====\n",
      "           gender  subject_id__1 clean_gender\n",
      "subject_id                                   \n",
      "249             F            249       female\n",
      "250             F            250       female\n",
      "251             M            251         male\n",
      "252             M            252         male\n",
      "253             F            253       female\n",
      "===== ADMISSIONS =====\n",
      "           admission_type\n",
      "subject_id               \n",
      "22              EMERGENCY\n",
      "23               ELECTIVE\n",
      "23              EMERGENCY\n",
      "24              EMERGENCY\n",
      "25              EMERGENCY\n"
     ]
    }
   ],
   "source": [
    "print(\"===== PATIENTS =====\")\n",
    "print(patients_read.head())\n",
    "print(\"===== ADMISSIONS =====\")\n",
    "print(admissions_read.head())"
   ]
  },
  {
   "cell_type": "code",
   "execution_count": 126,
   "metadata": {},
   "outputs": [
    {
     "name": "stdout",
     "output_type": "stream",
     "text": [
      "           gender  subject_id__1 clean_gender admission_type\n",
      "subject_id                                                  \n",
      "2               M              2         male        NEWBORN\n",
      "3               M              3         male      EMERGENCY\n",
      "4               F              4       female      EMERGENCY\n",
      "5               M              5         male        NEWBORN\n",
      "6               F              6       female       ELECTIVE\n",
      "Total joined: \t 12252\n"
     ]
    }
   ],
   "source": [
    "joined = patients_read.merge(admissions_read)#, left_on=\"gender\", right_on=\"admission_type\")\n",
    "print(joined.head())\n",
    "print(\"Total joined: \\t\", len(joined))"
   ]
  },
  {
   "cell_type": "code",
   "execution_count": 102,
   "metadata": {},
   "outputs": [
    {
     "data": {
      "text/plain": [
       "'/Users/jason/arkhn/poc-deltalake/src/dask'"
      ]
     },
     "execution_count": 102,
     "metadata": {},
     "output_type": "execute_result"
    }
   ],
   "source": [
    "import os\n",
    "os.getcwd()"
   ]
  },
  {
   "cell_type": "code",
   "execution_count": null,
   "metadata": {},
   "outputs": [],
   "source": []
  }
 ],
 "metadata": {
  "kernelspec": {
   "display_name": "poc-deltalake",
   "language": "python",
   "name": "poc-deltalake"
  },
  "language_info": {
   "codemirror_mode": {
    "name": "ipython",
    "version": 3
   },
   "file_extension": ".py",
   "mimetype": "text/x-python",
   "name": "python",
   "nbconvert_exporter": "python",
   "pygments_lexer": "ipython3",
   "version": "3.9.1"
  }
 },
 "nbformat": 4,
 "nbformat_minor": 4
}
